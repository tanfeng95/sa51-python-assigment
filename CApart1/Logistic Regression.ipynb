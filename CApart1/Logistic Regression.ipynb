{
 "cells": [
  {
   "cell_type": "markdown",
   "metadata": {},
   "source": [
    "# Logistic Regression"
   ]
  },
  {
   "cell_type": "markdown",
   "metadata": {},
   "source": [
    "Insert Library Needed"
   ]
  },
  {
   "cell_type": "code",
   "execution_count": 30,
   "metadata": {},
   "outputs": [],
   "source": [
    "import numpy as np\n",
    "import pandas as pd\n",
    "import sklearn\n",
    "import matplotlib.pyplot as plt\n",
    "import time\n",
    "from sklearn.linear_model import LogisticRegression\n",
    "from sklearn.model_selection import train_test_split\n",
    "from sklearn.metrics import accuracy_score\n",
    "from sklearn.metrics import confusion_matrix"
   ]
  },
  {
   "cell_type": "markdown",
   "metadata": {},
   "source": [
    "Insert Data"
   ]
  },
  {
   "cell_type": "code",
   "execution_count": 31,
   "metadata": {},
   "outputs": [
    {
     "data": {
      "text/html": [
       "<div>\n",
       "<style scoped>\n",
       "    .dataframe tbody tr th:only-of-type {\n",
       "        vertical-align: middle;\n",
       "    }\n",
       "\n",
       "    .dataframe tbody tr th {\n",
       "        vertical-align: top;\n",
       "    }\n",
       "\n",
       "    .dataframe thead th {\n",
       "        text-align: right;\n",
       "    }\n",
       "</style>\n",
       "<table border=\"1\" class=\"dataframe\">\n",
       "  <thead>\n",
       "    <tr style=\"text-align: right;\">\n",
       "      <th></th>\n",
       "      <th>town</th>\n",
       "      <th>flat_type</th>\n",
       "      <th>floor_area_sqm</th>\n",
       "      <th>remaining_lease_months</th>\n",
       "      <th>resale_price</th>\n",
       "      <th>distanceWithMrt</th>\n",
       "      <th>distanceWithRaffles</th>\n",
       "      <th>distanceWithGdPri</th>\n",
       "    </tr>\n",
       "  </thead>\n",
       "  <tbody>\n",
       "    <tr>\n",
       "      <th>0</th>\n",
       "      <td>ANG MO KIO</td>\n",
       "      <td>3 ROOM</td>\n",
       "      <td>68.0</td>\n",
       "      <td>714</td>\n",
       "      <td>274000.0</td>\n",
       "      <td>881.003375</td>\n",
       "      <td>8703.096482</td>\n",
       "      <td>1041.995726</td>\n",
       "    </tr>\n",
       "    <tr>\n",
       "      <th>1</th>\n",
       "      <td>ANG MO KIO</td>\n",
       "      <td>3 ROOM</td>\n",
       "      <td>68.0</td>\n",
       "      <td>714</td>\n",
       "      <td>315000.0</td>\n",
       "      <td>985.490578</td>\n",
       "      <td>8617.203081</td>\n",
       "      <td>1048.316784</td>\n",
       "    </tr>\n",
       "    <tr>\n",
       "      <th>2</th>\n",
       "      <td>ANG MO KIO</td>\n",
       "      <td>3 ROOM</td>\n",
       "      <td>70.0</td>\n",
       "      <td>1093</td>\n",
       "      <td>500000.0</td>\n",
       "      <td>689.479121</td>\n",
       "      <td>9113.711978</td>\n",
       "      <td>1199.433818</td>\n",
       "    </tr>\n",
       "    <tr>\n",
       "      <th>3</th>\n",
       "      <td>ANG MO KIO</td>\n",
       "      <td>3 ROOM</td>\n",
       "      <td>82.0</td>\n",
       "      <td>713</td>\n",
       "      <td>315000.0</td>\n",
       "      <td>881.003375</td>\n",
       "      <td>8703.096482</td>\n",
       "      <td>1041.995726</td>\n",
       "    </tr>\n",
       "    <tr>\n",
       "      <th>4</th>\n",
       "      <td>ANG MO KIO</td>\n",
       "      <td>3 ROOM</td>\n",
       "      <td>67.0</td>\n",
       "      <td>696</td>\n",
       "      <td>235000.0</td>\n",
       "      <td>1072.597799</td>\n",
       "      <td>8872.728560</td>\n",
       "      <td>1542.266971</td>\n",
       "    </tr>\n",
       "  </tbody>\n",
       "</table>\n",
       "</div>"
      ],
      "text/plain": [
       "         town flat_type  floor_area_sqm  remaining_lease_months  resale_price  \\\n",
       "0  ANG MO KIO    3 ROOM            68.0                     714      274000.0   \n",
       "1  ANG MO KIO    3 ROOM            68.0                     714      315000.0   \n",
       "2  ANG MO KIO    3 ROOM            70.0                    1093      500000.0   \n",
       "3  ANG MO KIO    3 ROOM            82.0                     713      315000.0   \n",
       "4  ANG MO KIO    3 ROOM            67.0                     696      235000.0   \n",
       "\n",
       "   distanceWithMrt  distanceWithRaffles  distanceWithGdPri  \n",
       "0       881.003375          8703.096482        1041.995726  \n",
       "1       985.490578          8617.203081        1048.316784  \n",
       "2       689.479121          9113.711978        1199.433818  \n",
       "3       881.003375          8703.096482        1041.995726  \n",
       "4      1072.597799          8872.728560        1542.266971  "
      ]
     },
     "execution_count": 31,
     "metadata": {},
     "output_type": "execute_result"
    }
   ],
   "source": [
    "df = pd.read_csv('HDB_database_final.csv')\n",
    "df.head()"
   ]
  },
  {
   "cell_type": "markdown",
   "metadata": {},
   "source": [
    "Preprocess Data"
   ]
  },
  {
   "cell_type": "code",
   "execution_count": 32,
   "metadata": {},
   "outputs": [
    {
     "data": {
      "text/html": [
       "<div>\n",
       "<style scoped>\n",
       "    .dataframe tbody tr th:only-of-type {\n",
       "        vertical-align: middle;\n",
       "    }\n",
       "\n",
       "    .dataframe tbody tr th {\n",
       "        vertical-align: top;\n",
       "    }\n",
       "\n",
       "    .dataframe thead th {\n",
       "        text-align: right;\n",
       "    }\n",
       "</style>\n",
       "<table border=\"1\" class=\"dataframe\">\n",
       "  <thead>\n",
       "    <tr style=\"text-align: right;\">\n",
       "      <th></th>\n",
       "      <th>town</th>\n",
       "      <th>flat_type</th>\n",
       "      <th>floor_area_sqm</th>\n",
       "      <th>remaining_lease_months</th>\n",
       "      <th>resale_price</th>\n",
       "      <th>distanceWithMrt</th>\n",
       "      <th>distanceWithRaffles</th>\n",
       "      <th>distanceWithGdPri</th>\n",
       "    </tr>\n",
       "  </thead>\n",
       "  <tbody>\n",
       "    <tr>\n",
       "      <th>0</th>\n",
       "      <td>ANG MO KIO</td>\n",
       "      <td>3 ROOM</td>\n",
       "      <td>68.0</td>\n",
       "      <td>714</td>\n",
       "      <td>0</td>\n",
       "      <td>881.003375</td>\n",
       "      <td>8703.096482</td>\n",
       "      <td>1041.995726</td>\n",
       "    </tr>\n",
       "    <tr>\n",
       "      <th>1</th>\n",
       "      <td>ANG MO KIO</td>\n",
       "      <td>3 ROOM</td>\n",
       "      <td>68.0</td>\n",
       "      <td>714</td>\n",
       "      <td>0</td>\n",
       "      <td>985.490578</td>\n",
       "      <td>8617.203081</td>\n",
       "      <td>1048.316784</td>\n",
       "    </tr>\n",
       "    <tr>\n",
       "      <th>2</th>\n",
       "      <td>ANG MO KIO</td>\n",
       "      <td>3 ROOM</td>\n",
       "      <td>70.0</td>\n",
       "      <td>1093</td>\n",
       "      <td>3</td>\n",
       "      <td>689.479121</td>\n",
       "      <td>9113.711978</td>\n",
       "      <td>1199.433818</td>\n",
       "    </tr>\n",
       "    <tr>\n",
       "      <th>3</th>\n",
       "      <td>ANG MO KIO</td>\n",
       "      <td>3 ROOM</td>\n",
       "      <td>82.0</td>\n",
       "      <td>713</td>\n",
       "      <td>0</td>\n",
       "      <td>881.003375</td>\n",
       "      <td>8703.096482</td>\n",
       "      <td>1041.995726</td>\n",
       "    </tr>\n",
       "    <tr>\n",
       "      <th>4</th>\n",
       "      <td>ANG MO KIO</td>\n",
       "      <td>3 ROOM</td>\n",
       "      <td>67.0</td>\n",
       "      <td>696</td>\n",
       "      <td>0</td>\n",
       "      <td>1072.597799</td>\n",
       "      <td>8872.728560</td>\n",
       "      <td>1542.266971</td>\n",
       "    </tr>\n",
       "  </tbody>\n",
       "</table>\n",
       "</div>"
      ],
      "text/plain": [
       "         town flat_type  floor_area_sqm  remaining_lease_months  resale_price  \\\n",
       "0  ANG MO KIO    3 ROOM            68.0                     714             0   \n",
       "1  ANG MO KIO    3 ROOM            68.0                     714             0   \n",
       "2  ANG MO KIO    3 ROOM            70.0                    1093             3   \n",
       "3  ANG MO KIO    3 ROOM            82.0                     713             0   \n",
       "4  ANG MO KIO    3 ROOM            67.0                     696             0   \n",
       "\n",
       "   distanceWithMrt  distanceWithRaffles  distanceWithGdPri  \n",
       "0       881.003375          8703.096482        1041.995726  \n",
       "1       985.490578          8617.203081        1048.316784  \n",
       "2       689.479121          9113.711978        1199.433818  \n",
       "3       881.003375          8703.096482        1041.995726  \n",
       "4      1072.597799          8872.728560        1542.266971  "
      ]
     },
     "execution_count": 32,
     "metadata": {},
     "output_type": "execute_result"
    }
   ],
   "source": [
    "def myfunction(x):\n",
    "    if x <= 325000:\n",
    "        return 0\n",
    "    elif x <= 390000:\n",
    "        return 1\n",
    "    elif x <= 455000:\n",
    "        return 2\n",
    "    elif x <= 555000:\n",
    "        return 3\n",
    "    else:\n",
    "        return 4\n",
    "\n",
    "#apply function\n",
    "df[\"resale_price\"]=df[\"resale_price\"].apply(myfunction)\n",
    "df.head()"
   ]
  },
  {
   "cell_type": "code",
   "execution_count": 33,
   "metadata": {},
   "outputs": [
    {
     "name": "stdout",
     "output_type": "stream",
     "text": [
      "502\n",
      "485\n",
      "482\n",
      "475\n",
      "477\n"
     ]
    }
   ],
   "source": [
    "print(len(df[df[\"resale_price\"]==0]))\n",
    "print(len(df[df[\"resale_price\"]==1]))\n",
    "print(len(df[df[\"resale_price\"]==2]))\n",
    "print(len(df[df[\"resale_price\"]==3]))\n",
    "print(len(df[df[\"resale_price\"]==4]))"
   ]
  },
  {
   "cell_type": "markdown",
   "metadata": {},
   "source": [
    "Model Training"
   ]
  },
  {
   "cell_type": "code",
   "execution_count": 45,
   "metadata": {},
   "outputs": [],
   "source": [
    "def logisticReg(x,y):\n",
    "    x_train, x_test, y_train, y_test = train_test_split(x,y,random_state=0)\n",
    "    \n",
    "    logReg = LogisticRegression(solver = 'liblinear', random_state = 0, max_iter = 6000)\n",
    "    logReg.fit(x_train, y_train)\n",
    "    y_pred = logReg.predict(x_test)\n",
    "    accuracy = accuracy_score(y_test, y_pred)\n",
    "    print('Accuracy: ' + str(accuracy))\n",
    "    print(confusion_matrix(y_test, y_pred))\n",
    "    \n",
    "\n",
    "    return logReg"
   ]
  },
  {
   "cell_type": "markdown",
   "metadata": {},
   "source": [
    "Model Validation"
   ]
  },
  {
   "cell_type": "code",
   "execution_count": 46,
   "metadata": {},
   "outputs": [
    {
     "name": "stdout",
     "output_type": "stream",
     "text": [
      "Accuracy: 0.41254125412541254\n",
      "[[78  5 29  3 20]\n",
      " [34 12 47 24 21]\n",
      " [20  3 41 33  8]\n",
      " [ 6  2 31 35 40]\n",
      " [ 6  2 13  9 84]]\n",
      "training time: 0.02043318748474121 s\n",
      "predict :  [4]\n",
      "predict time: 0.0005159378051757812 s\n"
     ]
    }
   ],
   "source": [
    "t0=time.time()\n",
    "x = df[[\"floor_area_sqm\",\"distanceWithMrt\",\"distanceWithRaffles\",\"distanceWithGdPri\",\"remaining_lease_months\"]]\n",
    "y = df[\"resale_price\"]\n",
    "logReg = logisticReg(x,y)\n",
    "t1 = time.time()\n",
    "t2 = t1-t0\n",
    "print (f\"training time: {t2} s\")\n",
    "\n",
    "t3=time.time()\n",
    "print('predict : ',logReg.predict([[67 ,881,1000 ,1000 ,714]]))\n",
    "t4 = time.time()\n",
    "t5 = t4-t3\n",
    "print (f\"predict time: {t5} s\") # the time would be round to 3 decimal in seconds"
   ]
  },
  {
   "cell_type": "markdown",
   "metadata": {},
   "source": [
    "# Best combination based on parameter test below"
   ]
  },
  {
   "cell_type": "code",
   "execution_count": 47,
   "metadata": {},
   "outputs": [
    {
     "name": "stdout",
     "output_type": "stream",
     "text": [
      "Accuracy: 0.466996699669967\n",
      "[[122   2   6   4   1]\n",
      " [ 43  12  51  20  12]\n",
      " [  9   3  47  17  29]\n",
      " [  7   3  32  24  48]\n",
      " [  4   4  21   7  78]]\n",
      "training time: 0.016858577728271484 s\n",
      "predict :  [0]\n",
      "predict time: 0.0010249614715576172 s\n"
     ]
    }
   ],
   "source": [
    "t0=time.time()\n",
    "x = df[[\"floor_area_sqm\",\"distanceWithGdPri\",\"remaining_lease_months\"]]\n",
    "y = df[\"resale_price\"]\n",
    "logReg =  logisticReg(x,y)\n",
    "t1 = time.time()\n",
    "t2 = t1-t0\n",
    "print (f\"training time: {t2} s\")\n",
    "\n",
    "t3=time.time()\n",
    "print('predict : ',logReg.predict([[67 ,881 ,714]]))\n",
    "t4 = time.time()\n",
    "t5 = t4-t3\n",
    "print (f\"predict time: {t5} s\") # the time would be round to 3 decimal in seconds"
   ]
  },
  {
   "cell_type": "markdown",
   "metadata": {},
   "source": [
    "# Reduce 1 parameter"
   ]
  },
  {
   "cell_type": "code",
   "execution_count": 49,
   "metadata": {},
   "outputs": [
    {
     "name": "stdout",
     "output_type": "stream",
     "text": [
      "Accuracy: 0.3910891089108911\n",
      "[[78  6 28  5 18]\n",
      " [35 10 48 24 21]\n",
      " [18  6 41 32  8]\n",
      " [ 4  2 34 31 43]\n",
      " [ 4  1 12 20 77]]\n",
      "training time: 0.017841100692749023 s\n",
      "predict :  [4]\n",
      "predict time: 0.001018524169921875 s\n"
     ]
    }
   ],
   "source": [
    "t0=time.time()\n",
    "x = df[[\"floor_area_sqm\",\"distanceWithMrt\",\"distanceWithRaffles\",\"distanceWithGdPri\"]]\n",
    "y = df[\"resale_price\"]\n",
    "logReg =  logisticReg(x,y)\n",
    "t1 = time.time()\n",
    "t2 = t1-t0\n",
    "print (f\"training time: {t2} s\")\n",
    "\n",
    "t3=time.time()\n",
    "print('predict : ',logReg.predict([[67 ,881,1000 ,714]]))\n",
    "t4 = time.time()\n",
    "t5 = t4-t3\n",
    "print (f\"predict time: {t5} s\") # the time would be round to 3 decimal in seconds"
   ]
  },
  {
   "cell_type": "code",
   "execution_count": 196,
   "metadata": {},
   "outputs": [
    {
     "name": "stdout",
     "output_type": "stream",
     "text": [
      "Accuracy: 0.3696369636963696\n",
      "[[56  8 41  6 24]\n",
      " [33 12 48 24 21]\n",
      " [21  3 39 34  8]\n",
      " [17  0 26 29 42]\n",
      " [ 3  0 12 11 88]]\n",
      "training time: 0.024083375930786133 s\n"
     ]
    }
   ],
   "source": [
    "t0=time.time()\n",
    "x = df[[\"floor_area_sqm\",\"distanceWithMrt\",\"distanceWithRaffles\",\"remaining_lease_months\"]]\n",
    "y = df[\"resale_price\"]\n",
    "logisticReg(x,y)\n",
    "t1 = time.time()\n",
    "t2 = t1-t0\n",
    "print (f\"training time: {t2} s\")"
   ]
  },
  {
   "cell_type": "code",
   "execution_count": 197,
   "metadata": {},
   "outputs": [
    {
     "name": "stdout",
     "output_type": "stream",
     "text": [
      "Accuracy: 0.4537953795379538\n",
      "[[123   1   9   1   1]\n",
      " [ 44   9  51  17  17]\n",
      " [  8   3  41  23  30]\n",
      " [  7   3  29  24  51]\n",
      " [  4   1  15  16  78]]\n",
      "training time: 0.029084205627441406 s\n"
     ]
    }
   ],
   "source": [
    "#selected\n",
    "t0=time.time()\n",
    "x = df[[\"floor_area_sqm\",\"distanceWithMrt\",\"distanceWithGdPri\",\"remaining_lease_months\"]]\n",
    "y = df[\"resale_price\"]\n",
    "logisticReg(x,y)\n",
    "t1 = time.time()\n",
    "t2 = t1-t0\n",
    "print (f\"training time: {t2} s\")"
   ]
  },
  {
   "cell_type": "code",
   "execution_count": 198,
   "metadata": {},
   "outputs": [
    {
     "name": "stdout",
     "output_type": "stream",
     "text": [
      "Accuracy: 0.41089108910891087\n",
      "[[82  4 25  2 22]\n",
      " [36 12 53 12 25]\n",
      " [18  4 53 17 13]\n",
      " [ 6  3 47 23 35]\n",
      " [ 5  3 18  9 79]]\n",
      "training time: 0.024521827697753906 s\n"
     ]
    }
   ],
   "source": [
    "t0=time.time()\n",
    "x = df[[\"floor_area_sqm\",\"distanceWithRaffles\",\"distanceWithGdPri\",\"remaining_lease_months\"]]\n",
    "y = df[\"resale_price\"]\n",
    "logisticReg(x,y)\n",
    "t1 = time.time()\n",
    "t2 = t1-t0\n",
    "print (f\"training time: {t2} s\")"
   ]
  },
  {
   "cell_type": "code",
   "execution_count": 199,
   "metadata": {},
   "outputs": [
    {
     "name": "stdout",
     "output_type": "stream",
     "text": [
      "Accuracy: 0.3085808580858086\n",
      "[[40 13 42 12 28]\n",
      " [15 12 60 24 27]\n",
      " [16 10 40 27 12]\n",
      " [ 8  3 36 32 35]\n",
      " [14  4 22 11 63]]\n",
      "training time: 0.01897120475769043 s\n"
     ]
    }
   ],
   "source": [
    "t0=time.time()\n",
    "x = df[[\"distanceWithMrt\",\"distanceWithRaffles\",\"distanceWithGdPri\",\"remaining_lease_months\"]]\n",
    "y = df[\"resale_price\"]\n",
    "logisticReg(x,y)\n",
    "t1 = time.time()\n",
    "t2 = t1-t0\n",
    "print (f\"training time: {t2} s\")"
   ]
  },
  {
   "cell_type": "markdown",
   "metadata": {},
   "source": [
    "# Reduce 2 Parameters"
   ]
  },
  {
   "cell_type": "code",
   "execution_count": 50,
   "metadata": {},
   "outputs": [
    {
     "name": "stdout",
     "output_type": "stream",
     "text": [
      "Accuracy: 0.4471947194719472\n",
      "[[120   5   6   2   2]\n",
      " [ 38  11  50  18  21]\n",
      " [  4  11  43  19  28]\n",
      " [  6   6  33  26  43]\n",
      " [  9   9  15  10  71]]\n",
      "training time: 0.01642441749572754 s\n",
      "predict :  [0]\n",
      "predict time: 0.001018524169921875 s\n"
     ]
    }
   ],
   "source": [
    "t0=time.time()\n",
    "x = df[[\"floor_area_sqm\",\"distanceWithMrt\",\"distanceWithGdPri\"]]\n",
    "y = df[\"resale_price\"]\n",
    "logReg = logisticReg(x,y)\n",
    "t1 = time.time()\n",
    "t2 = t1-t0\n",
    "print (f\"training time: {t2} s\")\n",
    "\n",
    "\n",
    "t3=time.time()\n",
    "print('predict : ',logReg.predict([[67 ,881,1000]]))\n",
    "t4 = time.time()\n",
    "t5 = t4-t3\n",
    "print (f\"predict time: {t5} s\") # the time would be round to 3 decimal in second"
   ]
  },
  {
   "cell_type": "code",
   "execution_count": 201,
   "metadata": {},
   "outputs": [
    {
     "name": "stdout",
     "output_type": "stream",
     "text": [
      "Accuracy: 0.4471947194719472\n",
      "[[124   3   6   1   1]\n",
      " [ 48  11  49  11  19]\n",
      " [  8   4  48  10  35]\n",
      " [  7   4  34   7  62]\n",
      " [  4   1  16  12  81]]\n",
      "training time: 0.025461435317993164 s\n"
     ]
    }
   ],
   "source": [
    "t0=time.time()\n",
    "x = df[[\"floor_area_sqm\",\"distanceWithMrt\",\"remaining_lease_months\"]]\n",
    "y = df[\"resale_price\"]\n",
    "logisticReg(x,y)\n",
    "t1 = time.time()\n",
    "t2 = t1-t0\n",
    "print (f\"training time: {t2} s\")"
   ]
  },
  {
   "cell_type": "code",
   "execution_count": 202,
   "metadata": {},
   "outputs": [
    {
     "name": "stdout",
     "output_type": "stream",
     "text": [
      "Accuracy: 0.466996699669967\n",
      "[[122   2   6   4   1]\n",
      " [ 43  12  51  20  12]\n",
      " [  9   3  47  17  29]\n",
      " [  7   3  32  24  48]\n",
      " [  4   4  21   7  78]]\n",
      "training time: 0.025929689407348633 s\n"
     ]
    }
   ],
   "source": [
    "#selected\n",
    "t0=time.time()\n",
    "x = df[[\"floor_area_sqm\",\"distanceWithGdPri\",\"remaining_lease_months\"]]\n",
    "y = df[\"resale_price\"]\n",
    "logisticReg(x,y)\n",
    "t1 = time.time()\n",
    "t2 = t1-t0\n",
    "print (f\"training time: {t2} s\")"
   ]
  },
  {
   "cell_type": "code",
   "execution_count": 203,
   "metadata": {},
   "outputs": [
    {
     "name": "stdout",
     "output_type": "stream",
     "text": [
      "Accuracy: 0.38613861386138615\n",
      "[[109   3  10   5   8]\n",
      " [ 54   5  43  10  26]\n",
      " [ 23   1  43  19  19]\n",
      " [ 25   3  27  23  36]\n",
      " [ 32   1  19   8  54]]\n",
      "training time: 0.02589893341064453 s\n"
     ]
    }
   ],
   "source": [
    "t0=time.time()\n",
    "x = df[[\"distanceWithMrt\",\"distanceWithGdPri\",\"remaining_lease_months\"]]\n",
    "y = df[\"resale_price\"]\n",
    "logisticReg(x,y)\n",
    "t1 = time.time()\n",
    "t2 = t1-t0\n",
    "print (f\"training time: {t2} s\")"
   ]
  },
  {
   "cell_type": "markdown",
   "metadata": {},
   "source": [
    "# Reduce 3 Parameters (No further improvement)"
   ]
  },
  {
   "cell_type": "code",
   "execution_count": 51,
   "metadata": {},
   "outputs": [
    {
     "name": "stdout",
     "output_type": "stream",
     "text": [
      "Accuracy: 0.4372937293729373\n",
      "[[119   5   7   3   1]\n",
      " [ 38  16  56  12  16]\n",
      " [  5  15  41  16  28]\n",
      " [  6   8  30  20  50]\n",
      " [  9  14   8  14  69]]\n",
      "training time: 0.013503789901733398 s\n",
      "predict :  [0]\n",
      "predict time: 0.0005083084106445312 s\n"
     ]
    }
   ],
   "source": [
    "t0=time.time()\n",
    "x = df[[\"floor_area_sqm\",\"distanceWithGdPri\"]]\n",
    "y = df[\"resale_price\"]\n",
    "logReg = logisticReg(x,y)\n",
    "t1 = time.time()\n",
    "t2 = t1-t0\n",
    "print (f\"training time: {t2} s\")\n",
    "\n",
    "t3=time.time()\n",
    "print('predict : ',logReg.predict([[67 ,881]]))\n",
    "t4 = time.time()\n",
    "t5 = t4-t3\n",
    "print (f\"predict time: {t5} s\") # the time would be round to 3 decimal in second"
   ]
  },
  {
   "cell_type": "code",
   "execution_count": 205,
   "metadata": {},
   "outputs": [
    {
     "name": "stdout",
     "output_type": "stream",
     "text": [
      "Accuracy: 0.4521452145214521\n",
      "[[124   3   5   2   1]\n",
      " [ 48  15  52  10  13]\n",
      " [  8   7  50   2  38]\n",
      " [  7   4  33   6  64]\n",
      " [  4   2  29   0  79]]\n",
      "training time: 0.014960050582885742 s\n"
     ]
    }
   ],
   "source": [
    "t0=time.time()\n",
    "x = df[[\"floor_area_sqm\",\"remaining_lease_months\"]]\n",
    "y = df[\"resale_price\"]\n",
    "logisticReg(x,y)\n",
    "t1 = time.time()\n",
    "t2 = t1-t0\n",
    "print (f\"training time: {t2} s\")"
   ]
  },
  {
   "cell_type": "code",
   "execution_count": 206,
   "metadata": {},
   "outputs": [
    {
     "name": "stdout",
     "output_type": "stream",
     "text": [
      "Accuracy: 0.3415841584158416\n",
      "[[113   1  12   1   8]\n",
      " [ 57   3  50   8  20]\n",
      " [ 24   1  51   3  26]\n",
      " [ 28   4  54   4  24]\n",
      " [ 32   3  40   3  36]]\n",
      "training time: 0.013930797576904297 s\n"
     ]
    }
   ],
   "source": [
    "t0=time.time()\n",
    "x = df[[\"distanceWithGdPri\",\"remaining_lease_months\"]]\n",
    "y = df[\"resale_price\"]\n",
    "logisticReg(x,y)\n",
    "t1 = time.time()\n",
    "t2 = t1-t0\n",
    "print (f\"training time: {t2} s\")"
   ]
  },
  {
   "cell_type": "markdown",
   "metadata": {},
   "source": [
    "# Test with only 1 parameter"
   ]
  },
  {
   "cell_type": "code",
   "execution_count": 53,
   "metadata": {},
   "outputs": [
    {
     "name": "stdout",
     "output_type": "stream",
     "text": [
      "Accuracy: 0.4438943894389439\n",
      "[[123   4   6   0   2]\n",
      " [ 40  35  50   0  13]\n",
      " [  4  30  32   0  39]\n",
      " [  6  17  26   0  65]\n",
      " [  8  15  12   0  79]]\n",
      "training time: 0.009680986404418945 s\n",
      "Accuracy: 0.23102310231023102\n",
      "[[19  0 54  1 61]\n",
      " [14  0 66  0 58]\n",
      " [13  0 60  0 32]\n",
      " [13  0 51  0 50]\n",
      " [19  0 32  2 61]]\n",
      "training time: 0.020591020584106445 s\n",
      "Accuracy: 0.17326732673267325\n",
      "[[  0   0 135   0   0]\n",
      " [  0   0 138   0   0]\n",
      " [  0   0 105   0   0]\n",
      " [  0   0 114   0   0]\n",
      " [  0   0 114   0   0]]\n",
      "training time: 0.008519649505615234 s\n",
      "Accuracy: 0.2145214521452145\n",
      "[[21  0 61  9 44]\n",
      " [18  0 79 13 28]\n",
      " [10  0 70  5 20]\n",
      " [14  0 77  9 14]\n",
      " [19  0 59  6 30]]\n",
      "training time: 0.009657859802246094 s\n",
      "Accuracy: 0.3250825082508251\n",
      "[[113   1  21   0   0]\n",
      " [ 57   5  76   0   0]\n",
      " [ 25   1  79   0   0]\n",
      " [ 28   8  78   0   0]\n",
      " [ 32   7  75   0   0]]\n",
      "training time: 0.008669376373291016 s\n"
     ]
    }
   ],
   "source": [
    "z = df[[\"floor_area_sqm\",\"distanceWithMrt\",\"distanceWithRaffles\",\"distanceWithGdPri\",\"remaining_lease_months\"]]\n",
    "for x in range(5):\n",
    "    t0=time.time()\n",
    "    x4 = z.iloc[:,x].to_frame()\n",
    "    y4 = df[\"resale_price\"]\n",
    "    logisticReg(x4,y4)\n",
    "    t1 = time.time()\n",
    "    t2 = t1-t0\n",
    "    print (f\"training time: {t2} s\")\n",
    "    \n"
   ]
  },
  {
   "cell_type": "code",
   "execution_count": null,
   "metadata": {},
   "outputs": [],
   "source": []
  }
 ],
 "metadata": {
  "kernelspec": {
   "display_name": "Python 3",
   "language": "python",
   "name": "python3"
  },
  "language_info": {
   "codemirror_mode": {
    "name": "ipython",
    "version": 3
   },
   "file_extension": ".py",
   "mimetype": "text/x-python",
   "name": "python",
   "nbconvert_exporter": "python",
   "pygments_lexer": "ipython3",
   "version": "3.8.5"
  }
 },
 "nbformat": 4,
 "nbformat_minor": 4
}
