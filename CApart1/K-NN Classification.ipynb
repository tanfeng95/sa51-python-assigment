{
 "cells": [
  {
   "cell_type": "markdown",
   "metadata": {},
   "source": [
    "# K-NN Classification"
   ]
  },
  {
   "cell_type": "markdown",
   "metadata": {},
   "source": [
    "Import Library"
   ]
  },
  {
   "cell_type": "code",
   "execution_count": 2,
   "metadata": {},
   "outputs": [],
   "source": [
    "import numpy as np\n",
    "import pandas as pd\n",
    "import sklearn\n",
    "import matplotlib.pyplot as plt\n",
    "import time\n",
    "from sklearn.model_selection import train_test_split\n",
    "from sklearn.neighbors import KNeighborsClassifier\n",
    "from sklearn.metrics import accuracy_score\n",
    "from sklearn.metrics import confusion_matrix"
   ]
  },
  {
   "cell_type": "markdown",
   "metadata": {},
   "source": [
    "Insert Data"
   ]
  },
  {
   "cell_type": "code",
   "execution_count": 3,
   "metadata": {},
   "outputs": [
    {
     "data": {
      "text/html": [
       "<div>\n",
       "<style scoped>\n",
       "    .dataframe tbody tr th:only-of-type {\n",
       "        vertical-align: middle;\n",
       "    }\n",
       "\n",
       "    .dataframe tbody tr th {\n",
       "        vertical-align: top;\n",
       "    }\n",
       "\n",
       "    .dataframe thead th {\n",
       "        text-align: right;\n",
       "    }\n",
       "</style>\n",
       "<table border=\"1\" class=\"dataframe\">\n",
       "  <thead>\n",
       "    <tr style=\"text-align: right;\">\n",
       "      <th></th>\n",
       "      <th>town</th>\n",
       "      <th>flat_type</th>\n",
       "      <th>floor_area_sqm</th>\n",
       "      <th>remaining_lease_months</th>\n",
       "      <th>resale_price</th>\n",
       "      <th>distanceWithMrt</th>\n",
       "      <th>distanceWithRaffles</th>\n",
       "      <th>distanceWithGdPri</th>\n",
       "    </tr>\n",
       "  </thead>\n",
       "  <tbody>\n",
       "    <tr>\n",
       "      <th>0</th>\n",
       "      <td>ANG MO KIO</td>\n",
       "      <td>3 ROOM</td>\n",
       "      <td>68.0</td>\n",
       "      <td>714</td>\n",
       "      <td>274000.0</td>\n",
       "      <td>881.003375</td>\n",
       "      <td>8703.096482</td>\n",
       "      <td>1041.995726</td>\n",
       "    </tr>\n",
       "    <tr>\n",
       "      <th>1</th>\n",
       "      <td>ANG MO KIO</td>\n",
       "      <td>3 ROOM</td>\n",
       "      <td>68.0</td>\n",
       "      <td>714</td>\n",
       "      <td>315000.0</td>\n",
       "      <td>985.490578</td>\n",
       "      <td>8617.203081</td>\n",
       "      <td>1048.316784</td>\n",
       "    </tr>\n",
       "    <tr>\n",
       "      <th>2</th>\n",
       "      <td>ANG MO KIO</td>\n",
       "      <td>3 ROOM</td>\n",
       "      <td>70.0</td>\n",
       "      <td>1093</td>\n",
       "      <td>500000.0</td>\n",
       "      <td>689.479121</td>\n",
       "      <td>9113.711978</td>\n",
       "      <td>1199.433818</td>\n",
       "    </tr>\n",
       "    <tr>\n",
       "      <th>3</th>\n",
       "      <td>ANG MO KIO</td>\n",
       "      <td>3 ROOM</td>\n",
       "      <td>82.0</td>\n",
       "      <td>713</td>\n",
       "      <td>315000.0</td>\n",
       "      <td>881.003375</td>\n",
       "      <td>8703.096482</td>\n",
       "      <td>1041.995726</td>\n",
       "    </tr>\n",
       "    <tr>\n",
       "      <th>4</th>\n",
       "      <td>ANG MO KIO</td>\n",
       "      <td>3 ROOM</td>\n",
       "      <td>67.0</td>\n",
       "      <td>696</td>\n",
       "      <td>235000.0</td>\n",
       "      <td>1072.597799</td>\n",
       "      <td>8872.728560</td>\n",
       "      <td>1542.266971</td>\n",
       "    </tr>\n",
       "  </tbody>\n",
       "</table>\n",
       "</div>"
      ],
      "text/plain": [
       "         town flat_type  floor_area_sqm  remaining_lease_months  resale_price  \\\n",
       "0  ANG MO KIO    3 ROOM            68.0                     714      274000.0   \n",
       "1  ANG MO KIO    3 ROOM            68.0                     714      315000.0   \n",
       "2  ANG MO KIO    3 ROOM            70.0                    1093      500000.0   \n",
       "3  ANG MO KIO    3 ROOM            82.0                     713      315000.0   \n",
       "4  ANG MO KIO    3 ROOM            67.0                     696      235000.0   \n",
       "\n",
       "   distanceWithMrt  distanceWithRaffles  distanceWithGdPri  \n",
       "0       881.003375          8703.096482        1041.995726  \n",
       "1       985.490578          8617.203081        1048.316784  \n",
       "2       689.479121          9113.711978        1199.433818  \n",
       "3       881.003375          8703.096482        1041.995726  \n",
       "4      1072.597799          8872.728560        1542.266971  "
      ]
     },
     "execution_count": 3,
     "metadata": {},
     "output_type": "execute_result"
    }
   ],
   "source": [
    "df = pd.read_csv('HDB_database_final.csv')\n",
    "df.head()"
   ]
  },
  {
   "cell_type": "markdown",
   "metadata": {},
   "source": [
    "Preprocess data"
   ]
  },
  {
   "cell_type": "code",
   "execution_count": 4,
   "metadata": {},
   "outputs": [
    {
     "data": {
      "text/html": [
       "<div>\n",
       "<style scoped>\n",
       "    .dataframe tbody tr th:only-of-type {\n",
       "        vertical-align: middle;\n",
       "    }\n",
       "\n",
       "    .dataframe tbody tr th {\n",
       "        vertical-align: top;\n",
       "    }\n",
       "\n",
       "    .dataframe thead th {\n",
       "        text-align: right;\n",
       "    }\n",
       "</style>\n",
       "<table border=\"1\" class=\"dataframe\">\n",
       "  <thead>\n",
       "    <tr style=\"text-align: right;\">\n",
       "      <th></th>\n",
       "      <th>town</th>\n",
       "      <th>flat_type</th>\n",
       "      <th>floor_area_sqm</th>\n",
       "      <th>remaining_lease_months</th>\n",
       "      <th>resale_price</th>\n",
       "      <th>distanceWithMrt</th>\n",
       "      <th>distanceWithRaffles</th>\n",
       "      <th>distanceWithGdPri</th>\n",
       "    </tr>\n",
       "  </thead>\n",
       "  <tbody>\n",
       "    <tr>\n",
       "      <th>0</th>\n",
       "      <td>ANG MO KIO</td>\n",
       "      <td>3 ROOM</td>\n",
       "      <td>68.0</td>\n",
       "      <td>714</td>\n",
       "      <td>0</td>\n",
       "      <td>881.003375</td>\n",
       "      <td>8703.096482</td>\n",
       "      <td>1041.995726</td>\n",
       "    </tr>\n",
       "    <tr>\n",
       "      <th>1</th>\n",
       "      <td>ANG MO KIO</td>\n",
       "      <td>3 ROOM</td>\n",
       "      <td>68.0</td>\n",
       "      <td>714</td>\n",
       "      <td>0</td>\n",
       "      <td>985.490578</td>\n",
       "      <td>8617.203081</td>\n",
       "      <td>1048.316784</td>\n",
       "    </tr>\n",
       "    <tr>\n",
       "      <th>2</th>\n",
       "      <td>ANG MO KIO</td>\n",
       "      <td>3 ROOM</td>\n",
       "      <td>70.0</td>\n",
       "      <td>1093</td>\n",
       "      <td>3</td>\n",
       "      <td>689.479121</td>\n",
       "      <td>9113.711978</td>\n",
       "      <td>1199.433818</td>\n",
       "    </tr>\n",
       "    <tr>\n",
       "      <th>3</th>\n",
       "      <td>ANG MO KIO</td>\n",
       "      <td>3 ROOM</td>\n",
       "      <td>82.0</td>\n",
       "      <td>713</td>\n",
       "      <td>0</td>\n",
       "      <td>881.003375</td>\n",
       "      <td>8703.096482</td>\n",
       "      <td>1041.995726</td>\n",
       "    </tr>\n",
       "    <tr>\n",
       "      <th>4</th>\n",
       "      <td>ANG MO KIO</td>\n",
       "      <td>3 ROOM</td>\n",
       "      <td>67.0</td>\n",
       "      <td>696</td>\n",
       "      <td>0</td>\n",
       "      <td>1072.597799</td>\n",
       "      <td>8872.728560</td>\n",
       "      <td>1542.266971</td>\n",
       "    </tr>\n",
       "  </tbody>\n",
       "</table>\n",
       "</div>"
      ],
      "text/plain": [
       "         town flat_type  floor_area_sqm  remaining_lease_months  resale_price  \\\n",
       "0  ANG MO KIO    3 ROOM            68.0                     714             0   \n",
       "1  ANG MO KIO    3 ROOM            68.0                     714             0   \n",
       "2  ANG MO KIO    3 ROOM            70.0                    1093             3   \n",
       "3  ANG MO KIO    3 ROOM            82.0                     713             0   \n",
       "4  ANG MO KIO    3 ROOM            67.0                     696             0   \n",
       "\n",
       "   distanceWithMrt  distanceWithRaffles  distanceWithGdPri  \n",
       "0       881.003375          8703.096482        1041.995726  \n",
       "1       985.490578          8617.203081        1048.316784  \n",
       "2       689.479121          9113.711978        1199.433818  \n",
       "3       881.003375          8703.096482        1041.995726  \n",
       "4      1072.597799          8872.728560        1542.266971  "
      ]
     },
     "execution_count": 4,
     "metadata": {},
     "output_type": "execute_result"
    }
   ],
   "source": [
    "def myfunction(x):\n",
    "    if x <= 325000:\n",
    "        return 0\n",
    "    elif x <= 390000:\n",
    "        return 1\n",
    "    elif x <= 455000:\n",
    "        return 2\n",
    "    elif x <= 555000:\n",
    "        return 3\n",
    "    else:\n",
    "        return 4\n",
    "\n",
    "#apply function\n",
    "df[\"resale_price\"]=df[\"resale_price\"].apply(myfunction)\n",
    "df.head()"
   ]
  },
  {
   "cell_type": "markdown",
   "metadata": {},
   "source": [
    "Model Training"
   ]
  },
  {
   "cell_type": "code",
   "execution_count": 5,
   "metadata": {},
   "outputs": [],
   "source": [
    "def KNNClass(x,y):\n",
    "    x_train, x_test, y_train, y_test = train_test_split(x,y,random_state=0)\n",
    "    \n",
    "    knn = KNeighborsClassifier(n_neighbors = 5)\n",
    "    knn.fit(x_train, y_train)\n",
    "    y_pred = knn.predict(x_test)\n",
    "    accuracy = accuracy_score(y_test, y_pred)\n",
    "    print('Accuracy: ' + str(accuracy))\n",
    "    print(confusion_matrix(y_test, y_pred))\n",
    "    return"
   ]
  },
  {
   "cell_type": "markdown",
   "metadata": {},
   "source": [
    "Model Validation"
   ]
  },
  {
   "cell_type": "code",
   "execution_count": 6,
   "metadata": {},
   "outputs": [
    {
     "name": "stdout",
     "output_type": "stream",
     "text": [
      "Accuracy: 0.39603960396039606\n",
      "[[86 28  9  7  5]\n",
      " [36 39 38 16  9]\n",
      " [14 26 38 18  9]\n",
      " [15 11 29 37 22]\n",
      " [15 17 16 26 40]]\n",
      "training time: 0.02712416648864746 s\n"
     ]
    }
   ],
   "source": [
    "t0=time.time()\n",
    "\n",
    "x = df[[\"floor_area_sqm\",\"distanceWithMrt\",\"distanceWithRaffles\",\"distanceWithGdPri\",\"remaining_lease_months\"]]\n",
    "y = df[\"resale_price\"]\n",
    "KNNClass(x,y)\n",
    "\n",
    "t1 = time.time()\n",
    "t2 = t1-t0\n",
    "print (f\"training time: {t2} s\")"
   ]
  },
  {
   "cell_type": "markdown",
   "metadata": {},
   "source": [
    "# Best Combination Based on the Parameter Test"
   ]
  },
  {
   "cell_type": "code",
   "execution_count": 7,
   "metadata": {},
   "outputs": [
    {
     "name": "stdout",
     "output_type": "stream",
     "text": [
      "Accuracy: 0.5726072607260726\n",
      "[[111  21   1   1   1]\n",
      " [ 23  73  34   3   5]\n",
      " [  3  26  46  23   7]\n",
      " [  4  16  25  53  16]\n",
      " [  1  10  15  24  64]]\n",
      "training time: 0.023949146270751953 s\n"
     ]
    }
   ],
   "source": [
    "#selected!!\n",
    "t0=time.time()\n",
    "\n",
    "x = df[[\"floor_area_sqm\",\"remaining_lease_months\"]]\n",
    "y = df[\"resale_price\"]\n",
    "KNNClass(x,y)\n",
    "\n",
    "t1 = time.time()\n",
    "t2 = t1-t0\n",
    "print (f\"training time: {t2} s\")"
   ]
  },
  {
   "cell_type": "markdown",
   "metadata": {},
   "source": [
    "# Loop for the best k value"
   ]
  },
  {
   "cell_type": "code",
   "execution_count": 8,
   "metadata": {},
   "outputs": [
    {
     "name": "stdout",
     "output_type": "stream",
     "text": [
      "1\n",
      "0.5957095709570958\n",
      "training time: 0.019944190979003906 s\n",
      "3\n",
      "0.570957095709571\n",
      "training time: 0.016803741455078125 s\n",
      "5\n",
      "0.5726072607260726\n",
      "training time: 0.017281293869018555 s\n",
      "7\n",
      "0.5742574257425742\n",
      "training time: 0.018280029296875 s\n",
      "9\n",
      "0.5874587458745875\n",
      "training time: 0.017794132232666016 s\n",
      "11\n",
      "0.5742574257425742\n",
      "training time: 0.01779794692993164 s\n",
      "13\n",
      "0.5792079207920792\n",
      "training time: 0.018801450729370117 s\n",
      "15\n",
      "0.570957095709571\n",
      "training time: 0.018799781799316406 s\n",
      "17\n",
      "0.570957095709571\n",
      "training time: 0.018789291381835938 s\n",
      "19\n",
      "0.5726072607260726\n",
      "training time: 0.01983809471130371 s\n"
     ]
    }
   ],
   "source": [
    "k_array = np.arange(1,21,2)\n",
    "x_train, x_test, y_train, y_test = train_test_split(x,y,random_state=0)\n",
    "\n",
    "for k in k_array:\n",
    "    t0=time.time()\n",
    "    knn_ex = KNeighborsClassifier(n_neighbors = k)\n",
    "    knn_ex.fit(x_train, y_train)\n",
    "    y_ex_pred = knn_ex.predict(x_test)\n",
    "    ac = accuracy_score(y_test, y_ex_pred)\n",
    "    print(k)\n",
    "    print(ac)\n",
    "    t1 = time.time()\n",
    "    t2 = t1-t0\n",
    "    print (f\"training time: {t2} s\")"
   ]
  },
  {
   "cell_type": "code",
   "execution_count": 9,
   "metadata": {},
   "outputs": [
    {
     "name": "stdout",
     "output_type": "stream",
     "text": [
      "1\n",
      "0.5957095709570958\n",
      "training time: 0.01798248291015625 s\n",
      "2\n",
      "0.570957095709571\n",
      "training time: 0.016783475875854492 s\n"
     ]
    }
   ],
   "source": [
    "k_depth = np.array([1,2])\n",
    "\n",
    "for k in k_depth:\n",
    "    t0=time.time()\n",
    "    knn_ex = KNeighborsClassifier(n_neighbors = k)\n",
    "    knn_ex.fit(x_train, y_train)\n",
    "    y_ex_pred = knn_ex.predict(x_test)\n",
    "    ac = accuracy_score(y_test, y_ex_pred)\n",
    "    print(k)\n",
    "    print(ac)\n",
    "    t1 = time.time()\n",
    "    t2 = t1-t0\n",
    "    print (f\"training time: {t2} s\")"
   ]
  },
  {
   "cell_type": "markdown",
   "metadata": {},
   "source": [
    "# k of 1 has the best combination of accuracy and time"
   ]
  },
  {
   "cell_type": "code",
   "execution_count": 10,
   "metadata": {},
   "outputs": [
    {
     "name": "stdout",
     "output_type": "stream",
     "text": [
      "0.5957095709570958\n",
      "[[109  20   4   2   0]\n",
      " [ 20  68  29  12   9]\n",
      " [  4  18  47  28   8]\n",
      " [  4  15  17  60  18]\n",
      " [  0   4   9  24  77]]\n",
      "training time: 0.019856691360473633 s\n"
     ]
    }
   ],
   "source": [
    "t0=time.time()\n",
    "knn_final = KNeighborsClassifier(n_neighbors = 1)\n",
    "knn_final.fit(x_train, y_train)\n",
    "y_final_pred = knn_final.predict(x_test)\n",
    "print(accuracy_score(y_test, y_final_pred))\n",
    "print(confusion_matrix(y_test, y_final_pred))\n",
    "t1 = time.time()\n",
    "t2 = t1-t0\n",
    "print (f\"training time: {t2} s\")"
   ]
  },
  {
   "cell_type": "markdown",
   "metadata": {},
   "source": [
    "# Prediction Test"
   ]
  },
  {
   "cell_type": "code",
   "execution_count": 11,
   "metadata": {},
   "outputs": [
    {
     "name": "stdout",
     "output_type": "stream",
     "text": [
      "[0]\n",
      "predict time: 0.0015342235565185547 s\n",
      "[3]\n"
     ]
    }
   ],
   "source": [
    "t0=time.time()\n",
    "print(knn_final.predict([[68,714]]))\n",
    "t1 = time.time()\n",
    "t2 = t1-t0\n",
    "print (f\"predict time: {t2} s\")\n",
    "print(knn_final.predict([[70,1093]]))"
   ]
  },
  {
   "cell_type": "markdown",
   "metadata": {},
   "source": [
    "# Parameter Test"
   ]
  },
  {
   "cell_type": "markdown",
   "metadata": {},
   "source": [
    "# Reduce 1 parameter"
   ]
  },
  {
   "cell_type": "code",
   "execution_count": 65,
   "metadata": {},
   "outputs": [
    {
     "name": "stdout",
     "output_type": "stream",
     "text": [
      "Accuracy: 0.3943894389438944\n",
      "[[81 23 12  8 11]\n",
      " [31 40 36 20 11]\n",
      " [16 25 38 21  5]\n",
      " [19 14 21 40 20]\n",
      " [11 19 18 26 40]]\n",
      "training time: 0.03452014923095703 s\n"
     ]
    }
   ],
   "source": [
    "t0=time.time()\n",
    "\n",
    "x = df[[\"floor_area_sqm\",\"distanceWithMrt\",\"distanceWithRaffles\",\"distanceWithGdPri\"]]\n",
    "y = df[\"resale_price\"]\n",
    "KNNClass(x,y)\n",
    "\n",
    "t1 = time.time()\n",
    "t2 = t1-t0\n",
    "print (f\"training time: {t2} s\")"
   ]
  },
  {
   "cell_type": "code",
   "execution_count": 66,
   "metadata": {},
   "outputs": [
    {
     "name": "stdout",
     "output_type": "stream",
     "text": [
      "Accuracy: 0.4273927392739274\n",
      "[[90 25  9  8  3]\n",
      " [39 44 33 15  7]\n",
      " [ 9 22 44 25  5]\n",
      " [15 19 24 39 17]\n",
      " [10 16 22 24 42]]\n",
      "training time: 0.034853458404541016 s\n"
     ]
    }
   ],
   "source": [
    "#selected\n",
    "t0=time.time()\n",
    "\n",
    "x = df[[\"floor_area_sqm\",\"distanceWithMrt\",\"distanceWithRaffles\",\"remaining_lease_months\"]]\n",
    "y = df[\"resale_price\"]\n",
    "KNNClass(x,y)\n",
    "\n",
    "t1 = time.time()\n",
    "t2 = t1-t0\n",
    "print (f\"training time: {t2} s\")"
   ]
  },
  {
   "cell_type": "code",
   "execution_count": 67,
   "metadata": {},
   "outputs": [
    {
     "name": "stdout",
     "output_type": "stream",
     "text": [
      "Accuracy: 0.4158415841584158\n",
      "[[84 24 15  8  4]\n",
      " [32 34 37 21 14]\n",
      " [14 21 47 15  8]\n",
      " [10 15 23 45 21]\n",
      " [ 9 17 22 24 42]]\n",
      "training time: 0.03301548957824707 s\n"
     ]
    }
   ],
   "source": [
    "t0=time.time()\n",
    "\n",
    "x = df[[\"floor_area_sqm\",\"distanceWithMrt\",\"distanceWithGdPri\",\"remaining_lease_months\"]]\n",
    "y = df[\"resale_price\"]\n",
    "KNNClass(x,y)\n",
    "\n",
    "t1 = time.time()\n",
    "t2 = t1-t0\n",
    "print (f\"training time: {t2} s\")"
   ]
  },
  {
   "cell_type": "code",
   "execution_count": 68,
   "metadata": {},
   "outputs": [
    {
     "name": "stdout",
     "output_type": "stream",
     "text": [
      "Accuracy: 0.40594059405940597\n",
      "[[90 22 14  4  5]\n",
      " [33 46 25 21 13]\n",
      " [12 20 38 24 11]\n",
      " [20 12 26 34 22]\n",
      " [15 25 12 24 38]]\n",
      "training time: 0.03525519371032715 s\n"
     ]
    }
   ],
   "source": [
    "t0=time.time()\n",
    "\n",
    "x = df[[\"floor_area_sqm\",\"distanceWithRaffles\",\"distanceWithGdPri\",\"remaining_lease_months\"]]\n",
    "y = df[\"resale_price\"]\n",
    "KNNClass(x,y)\n",
    "\n",
    "t1 = time.time()\n",
    "t2 = t1-t0\n",
    "print (f\"training time: {t2} s\")"
   ]
  },
  {
   "cell_type": "code",
   "execution_count": 69,
   "metadata": {},
   "outputs": [
    {
     "name": "stdout",
     "output_type": "stream",
     "text": [
      "Accuracy: 0.38943894389438943\n",
      "[[86 27  9  8  5]\n",
      " [36 38 36 19  9]\n",
      " [16 25 36 19  9]\n",
      " [17 12 27 36 22]\n",
      " [15 18 14 27 40]]\n",
      "training time: 0.02692699432373047 s\n"
     ]
    }
   ],
   "source": [
    "t0=time.time()\n",
    "\n",
    "x = df[[\"distanceWithMrt\",\"distanceWithRaffles\",\"distanceWithGdPri\",\"remaining_lease_months\"]]\n",
    "y = df[\"resale_price\"]\n",
    "KNNClass(x,y)\n",
    "\n",
    "t1 = time.time()\n",
    "t2 = t1-t0\n",
    "print (f\"training time: {t2} s\")"
   ]
  },
  {
   "cell_type": "markdown",
   "metadata": {},
   "source": [
    "# Reduce 2 parameters"
   ]
  },
  {
   "cell_type": "code",
   "execution_count": 71,
   "metadata": {},
   "outputs": [
    {
     "name": "stdout",
     "output_type": "stream",
     "text": [
      "Accuracy: 0.37623762376237624\n",
      "[[75 24 12 11 13]\n",
      " [37 41 25 17 18]\n",
      " [11 24 41 25  4]\n",
      " [18 21 25 31 19]\n",
      " [13 14 23 24 40]]\n",
      "training time: 0.022464275360107422 s\n"
     ]
    }
   ],
   "source": [
    "t0=time.time()\n",
    "\n",
    "x = df[[\"floor_area_sqm\",\"distanceWithMrt\",\"distanceWithRaffles\"]]\n",
    "y = df[\"resale_price\"]\n",
    "KNNClass(x,y)\n",
    "\n",
    "t1 = time.time()\n",
    "t2 = t1-t0\n",
    "print (f\"training time: {t2} s\")"
   ]
  },
  {
   "cell_type": "code",
   "execution_count": 72,
   "metadata": {},
   "outputs": [
    {
     "name": "stdout",
     "output_type": "stream",
     "text": [
      "Accuracy: 0.4768976897689769\n",
      "[[103  19   7   5   1]\n",
      " [ 31  48  28  18  13]\n",
      " [ 10  15  47  23  10]\n",
      " [  3  14  31  45  21]\n",
      " [  3   7  25  33  46]]\n",
      "training time: 0.03193092346191406 s\n"
     ]
    }
   ],
   "source": [
    "#selected\n",
    "t0=time.time()\n",
    "\n",
    "x = df[[\"floor_area_sqm\",\"distanceWithMrt\",\"remaining_lease_months\"]]\n",
    "y = df[\"resale_price\"]\n",
    "KNNClass(x,y)\n",
    "\n",
    "t1 = time.time()\n",
    "t2 = t1-t0\n",
    "print (f\"training time: {t2} s\")"
   ]
  },
  {
   "cell_type": "code",
   "execution_count": 73,
   "metadata": {},
   "outputs": [
    {
     "name": "stdout",
     "output_type": "stream",
     "text": [
      "Accuracy: 0.41254125412541254\n",
      "[[94 24  7  9  1]\n",
      " [35 41 35 22  5]\n",
      " [11 21 40 28  5]\n",
      " [11 12 41 34 16]\n",
      " [ 9 11 28 25 41]]\n",
      "training time: 0.030837535858154297 s\n"
     ]
    }
   ],
   "source": [
    "t0=time.time()\n",
    "\n",
    "x = df[[\"floor_area_sqm\",\"distanceWithRaffles\",\"remaining_lease_months\"]]\n",
    "y = df[\"resale_price\"]\n",
    "KNNClass(x,y)\n",
    "\n",
    "t1 = time.time()\n",
    "t2 = t1-t0\n",
    "print (f\"training time: {t2} s\")"
   ]
  },
  {
   "cell_type": "code",
   "execution_count": 74,
   "metadata": {},
   "outputs": [
    {
     "name": "stdout",
     "output_type": "stream",
     "text": [
      "Accuracy: 0.4158415841584158\n",
      "[[89 24 11  8  3]\n",
      " [40 41 31 18  8]\n",
      " [10 23 42 24  6]\n",
      " [17 20 22 38 17]\n",
      " [12 13 24 23 42]]\n",
      "training time: 0.025930404663085938 s\n"
     ]
    }
   ],
   "source": [
    "t0=time.time()\n",
    "\n",
    "x = df[[\"distanceWithMrt\",\"distanceWithRaffles\",\"remaining_lease_months\"]]\n",
    "y = df[\"resale_price\"]\n",
    "KNNClass(x,y)\n",
    "\n",
    "t1 = time.time()\n",
    "t2 = t1-t0\n",
    "print (f\"training time: {t2} s\")"
   ]
  },
  {
   "cell_type": "markdown",
   "metadata": {},
   "source": [
    "# Reduce 3 parameters"
   ]
  },
  {
   "cell_type": "code",
   "execution_count": 75,
   "metadata": {},
   "outputs": [
    {
     "name": "stdout",
     "output_type": "stream",
     "text": [
      "Accuracy: 0.4521452145214521\n",
      "[[104  13  10   5   3]\n",
      " [ 34  47  28  16  13]\n",
      " [  3  23  43  23  13]\n",
      " [  9  19  33  33  20]\n",
      " [  8  13  19  27  47]]\n",
      "training time: 0.024005651473999023 s\n"
     ]
    }
   ],
   "source": [
    "t0=time.time()\n",
    "\n",
    "x = df[[\"floor_area_sqm\",\"distanceWithMrt\"]]\n",
    "y = df[\"resale_price\"]\n",
    "KNNClass(x,y)\n",
    "\n",
    "t1 = time.time()\n",
    "t2 = t1-t0\n",
    "print (f\"training time: {t2} s\")"
   ]
  },
  {
   "cell_type": "code",
   "execution_count": 76,
   "metadata": {},
   "outputs": [
    {
     "name": "stdout",
     "output_type": "stream",
     "text": [
      "Accuracy: 0.5726072607260726\n",
      "[[111  21   1   1   1]\n",
      " [ 23  73  34   3   5]\n",
      " [  3  26  46  23   7]\n",
      " [  4  16  25  53  16]\n",
      " [  1  10  15  24  64]]\n",
      "training time: 0.03191089630126953 s\n"
     ]
    }
   ],
   "source": [
    "#selected\n",
    "t0=time.time()\n",
    "\n",
    "x = df[[\"floor_area_sqm\",\"remaining_lease_months\"]]\n",
    "y = df[\"resale_price\"]\n",
    "KNNClass(x,y)\n",
    "\n",
    "t1 = time.time()\n",
    "t2 = t1-t0\n",
    "print (f\"training time: {t2} s\")"
   ]
  },
  {
   "cell_type": "code",
   "execution_count": 77,
   "metadata": {},
   "outputs": [
    {
     "name": "stdout",
     "output_type": "stream",
     "text": [
      "Accuracy: 0.3481848184818482\n",
      "[[77 30  7 15  6]\n",
      " [33 30 38 20 17]\n",
      " [16 26 36 15 12]\n",
      " [16 21 18 32 27]\n",
      " [12 17 26 23 36]]\n",
      "training time: 0.02438187599182129 s\n"
     ]
    }
   ],
   "source": [
    "t0=time.time()\n",
    "\n",
    "x = df[[\"distanceWithMrt\",\"remaining_lease_months\"]]\n",
    "y = df[\"resale_price\"]\n",
    "KNNClass(x,y)\n",
    "\n",
    "t1 = time.time()\n",
    "t2 = t1-t0\n",
    "print (f\"training time: {t2} s\")"
   ]
  },
  {
   "cell_type": "markdown",
   "metadata": {},
   "source": [
    "# Reduce 4 Parameters/Test with 1 Parameter"
   ]
  },
  {
   "cell_type": "code",
   "execution_count": 78,
   "metadata": {},
   "outputs": [
    {
     "name": "stdout",
     "output_type": "stream",
     "text": [
      "Accuracy: 0.48514851485148514\n",
      "[[112  13   7   1   2]\n",
      " [ 33  41  57   2   5]\n",
      " [  4  13  68  12   8]\n",
      " [  5   6  56  30  17]\n",
      " [  5  14  23  29  43]]\n",
      "training time: 0.021500587463378906 s\n",
      "Accuracy: 0.24917491749174916\n",
      "[[40 33 23 21 18]\n",
      " [39 33 30 16 20]\n",
      " [29 21 28 15 12]\n",
      " [30 26 19 21 18]\n",
      " [32 18 20 15 29]]\n",
      "training time: 0.020919084548950195 s\n",
      "Accuracy: 0.2986798679867987\n",
      "[[61 18 21 12 23]\n",
      " [41 33 24 25 15]\n",
      " [21 22 35 21  6]\n",
      " [24 16 36 25 13]\n",
      " [23 19 23 22 27]]\n",
      "training time: 0.019947052001953125 s\n",
      "Accuracy: 0.24092409240924093\n",
      "[[49 30 15 22 19]\n",
      " [43 28 25 26 16]\n",
      " [22 24 21 18 20]\n",
      " [31 20 27 21 15]\n",
      " [24 14 21 28 27]]\n",
      "training time: 0.01894998550415039 s\n",
      "Accuracy: 0.36633663366336633\n",
      "[[87 13 15  9 11]\n",
      " [36 30 39 13 20]\n",
      " [14 23 42 14 12]\n",
      " [17 22 33 20 22]\n",
      " [14 15 25 17 43]]\n",
      "training time: 0.019979000091552734 s\n"
     ]
    }
   ],
   "source": [
    "z = df[[\"floor_area_sqm\",\"distanceWithMrt\",\"distanceWithRaffles\",\"distanceWithGdPri\",\"remaining_lease_months\"]]\n",
    "for x in range(5):\n",
    "    t0=time.time()\n",
    "    x4 = z.iloc[:,x].to_frame()\n",
    "    y4 = df[\"resale_price\"]\n",
    "    KNNClass(x4,y4)\n",
    "    t1 = time.time()\n",
    "    t2 = t1-t0\n",
    "    print (f\"training time: {t2} s\")"
   ]
  },
  {
   "cell_type": "code",
   "execution_count": null,
   "metadata": {},
   "outputs": [],
   "source": []
  }
 ],
 "metadata": {
  "kernelspec": {
   "display_name": "Python 3",
   "language": "python",
   "name": "python3"
  },
  "language_info": {
   "codemirror_mode": {
    "name": "ipython",
    "version": 3
   },
   "file_extension": ".py",
   "mimetype": "text/x-python",
   "name": "python",
   "nbconvert_exporter": "python",
   "pygments_lexer": "ipython3",
   "version": "3.8.5"
  }
 },
 "nbformat": 4,
 "nbformat_minor": 4
}
