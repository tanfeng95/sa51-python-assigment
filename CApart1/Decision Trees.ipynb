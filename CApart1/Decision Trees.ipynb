{
 "cells": [
  {
   "cell_type": "markdown",
   "metadata": {},
   "source": [
    "# Decision Tree"
   ]
  },
  {
   "cell_type": "markdown",
   "metadata": {},
   "source": [
    "Import Library"
   ]
  },
  {
   "cell_type": "code",
   "execution_count": 10,
   "metadata": {},
   "outputs": [],
   "source": [
    "import numpy as np\n",
    "import pandas as pd\n",
    "import sklearn\n",
    "import matplotlib.pyplot as plt\n",
    "from sklearn.tree import DecisionTreeClassifier\n",
    "from sklearn.model_selection import train_test_split\n",
    "from sklearn.metrics import accuracy_score\n",
    "from sklearn.metrics import confusion_matrix\n",
    "from sklearn import tree\n",
    "import graphviz\n",
    "from graphviz import Source\n",
    "import time"
   ]
  },
  {
   "cell_type": "markdown",
   "metadata": {},
   "source": [
    "Insert Data"
   ]
  },
  {
   "cell_type": "code",
   "execution_count": 11,
   "metadata": {},
   "outputs": [
    {
     "data": {
      "text/html": [
       "<div>\n",
       "<style scoped>\n",
       "    .dataframe tbody tr th:only-of-type {\n",
       "        vertical-align: middle;\n",
       "    }\n",
       "\n",
       "    .dataframe tbody tr th {\n",
       "        vertical-align: top;\n",
       "    }\n",
       "\n",
       "    .dataframe thead th {\n",
       "        text-align: right;\n",
       "    }\n",
       "</style>\n",
       "<table border=\"1\" class=\"dataframe\">\n",
       "  <thead>\n",
       "    <tr style=\"text-align: right;\">\n",
       "      <th></th>\n",
       "      <th>town</th>\n",
       "      <th>flat_type</th>\n",
       "      <th>floor_area_sqm</th>\n",
       "      <th>remaining_lease_months</th>\n",
       "      <th>resale_price</th>\n",
       "      <th>distanceWithMrt</th>\n",
       "      <th>distanceWithRaffles</th>\n",
       "      <th>distanceWithGdPri</th>\n",
       "    </tr>\n",
       "  </thead>\n",
       "  <tbody>\n",
       "    <tr>\n",
       "      <th>0</th>\n",
       "      <td>ANG MO KIO</td>\n",
       "      <td>3 ROOM</td>\n",
       "      <td>68.0</td>\n",
       "      <td>714</td>\n",
       "      <td>274000.0</td>\n",
       "      <td>881.003375</td>\n",
       "      <td>8703.096482</td>\n",
       "      <td>1041.995726</td>\n",
       "    </tr>\n",
       "    <tr>\n",
       "      <th>1</th>\n",
       "      <td>ANG MO KIO</td>\n",
       "      <td>3 ROOM</td>\n",
       "      <td>68.0</td>\n",
       "      <td>714</td>\n",
       "      <td>315000.0</td>\n",
       "      <td>985.490578</td>\n",
       "      <td>8617.203081</td>\n",
       "      <td>1048.316784</td>\n",
       "    </tr>\n",
       "    <tr>\n",
       "      <th>2</th>\n",
       "      <td>ANG MO KIO</td>\n",
       "      <td>3 ROOM</td>\n",
       "      <td>70.0</td>\n",
       "      <td>1093</td>\n",
       "      <td>500000.0</td>\n",
       "      <td>689.479121</td>\n",
       "      <td>9113.711978</td>\n",
       "      <td>1199.433818</td>\n",
       "    </tr>\n",
       "    <tr>\n",
       "      <th>3</th>\n",
       "      <td>ANG MO KIO</td>\n",
       "      <td>3 ROOM</td>\n",
       "      <td>82.0</td>\n",
       "      <td>713</td>\n",
       "      <td>315000.0</td>\n",
       "      <td>881.003375</td>\n",
       "      <td>8703.096482</td>\n",
       "      <td>1041.995726</td>\n",
       "    </tr>\n",
       "    <tr>\n",
       "      <th>4</th>\n",
       "      <td>ANG MO KIO</td>\n",
       "      <td>3 ROOM</td>\n",
       "      <td>67.0</td>\n",
       "      <td>696</td>\n",
       "      <td>235000.0</td>\n",
       "      <td>1072.597799</td>\n",
       "      <td>8872.728560</td>\n",
       "      <td>1542.266971</td>\n",
       "    </tr>\n",
       "  </tbody>\n",
       "</table>\n",
       "</div>"
      ],
      "text/plain": [
       "         town flat_type  floor_area_sqm  remaining_lease_months  resale_price  \\\n",
       "0  ANG MO KIO    3 ROOM            68.0                     714      274000.0   \n",
       "1  ANG MO KIO    3 ROOM            68.0                     714      315000.0   \n",
       "2  ANG MO KIO    3 ROOM            70.0                    1093      500000.0   \n",
       "3  ANG MO KIO    3 ROOM            82.0                     713      315000.0   \n",
       "4  ANG MO KIO    3 ROOM            67.0                     696      235000.0   \n",
       "\n",
       "   distanceWithMrt  distanceWithRaffles  distanceWithGdPri  \n",
       "0       881.003375          8703.096482        1041.995726  \n",
       "1       985.490578          8617.203081        1048.316784  \n",
       "2       689.479121          9113.711978        1199.433818  \n",
       "3       881.003375          8703.096482        1041.995726  \n",
       "4      1072.597799          8872.728560        1542.266971  "
      ]
     },
     "execution_count": 11,
     "metadata": {},
     "output_type": "execute_result"
    }
   ],
   "source": [
    "df = pd.read_csv('HDB_database_final.csv')\n",
    "df.head()"
   ]
  },
  {
   "cell_type": "code",
   "execution_count": 12,
   "metadata": {},
   "outputs": [
    {
     "data": {
      "text/html": [
       "<div>\n",
       "<style scoped>\n",
       "    .dataframe tbody tr th:only-of-type {\n",
       "        vertical-align: middle;\n",
       "    }\n",
       "\n",
       "    .dataframe tbody tr th {\n",
       "        vertical-align: top;\n",
       "    }\n",
       "\n",
       "    .dataframe thead th {\n",
       "        text-align: right;\n",
       "    }\n",
       "</style>\n",
       "<table border=\"1\" class=\"dataframe\">\n",
       "  <thead>\n",
       "    <tr style=\"text-align: right;\">\n",
       "      <th></th>\n",
       "      <th>town</th>\n",
       "      <th>flat_type</th>\n",
       "      <th>floor_area_sqm</th>\n",
       "      <th>remaining_lease_months</th>\n",
       "      <th>resale_price</th>\n",
       "      <th>distanceWithMrt</th>\n",
       "      <th>distanceWithRaffles</th>\n",
       "      <th>distanceWithGdPri</th>\n",
       "    </tr>\n",
       "  </thead>\n",
       "  <tbody>\n",
       "    <tr>\n",
       "      <th>0</th>\n",
       "      <td>ANG MO KIO</td>\n",
       "      <td>3 ROOM</td>\n",
       "      <td>68.0</td>\n",
       "      <td>714</td>\n",
       "      <td>0</td>\n",
       "      <td>881.003375</td>\n",
       "      <td>8703.096482</td>\n",
       "      <td>1041.995726</td>\n",
       "    </tr>\n",
       "    <tr>\n",
       "      <th>1</th>\n",
       "      <td>ANG MO KIO</td>\n",
       "      <td>3 ROOM</td>\n",
       "      <td>68.0</td>\n",
       "      <td>714</td>\n",
       "      <td>0</td>\n",
       "      <td>985.490578</td>\n",
       "      <td>8617.203081</td>\n",
       "      <td>1048.316784</td>\n",
       "    </tr>\n",
       "    <tr>\n",
       "      <th>2</th>\n",
       "      <td>ANG MO KIO</td>\n",
       "      <td>3 ROOM</td>\n",
       "      <td>70.0</td>\n",
       "      <td>1093</td>\n",
       "      <td>3</td>\n",
       "      <td>689.479121</td>\n",
       "      <td>9113.711978</td>\n",
       "      <td>1199.433818</td>\n",
       "    </tr>\n",
       "    <tr>\n",
       "      <th>3</th>\n",
       "      <td>ANG MO KIO</td>\n",
       "      <td>3 ROOM</td>\n",
       "      <td>82.0</td>\n",
       "      <td>713</td>\n",
       "      <td>0</td>\n",
       "      <td>881.003375</td>\n",
       "      <td>8703.096482</td>\n",
       "      <td>1041.995726</td>\n",
       "    </tr>\n",
       "    <tr>\n",
       "      <th>4</th>\n",
       "      <td>ANG MO KIO</td>\n",
       "      <td>3 ROOM</td>\n",
       "      <td>67.0</td>\n",
       "      <td>696</td>\n",
       "      <td>0</td>\n",
       "      <td>1072.597799</td>\n",
       "      <td>8872.728560</td>\n",
       "      <td>1542.266971</td>\n",
       "    </tr>\n",
       "  </tbody>\n",
       "</table>\n",
       "</div>"
      ],
      "text/plain": [
       "         town flat_type  floor_area_sqm  remaining_lease_months  resale_price  \\\n",
       "0  ANG MO KIO    3 ROOM            68.0                     714             0   \n",
       "1  ANG MO KIO    3 ROOM            68.0                     714             0   \n",
       "2  ANG MO KIO    3 ROOM            70.0                    1093             3   \n",
       "3  ANG MO KIO    3 ROOM            82.0                     713             0   \n",
       "4  ANG MO KIO    3 ROOM            67.0                     696             0   \n",
       "\n",
       "   distanceWithMrt  distanceWithRaffles  distanceWithGdPri  \n",
       "0       881.003375          8703.096482        1041.995726  \n",
       "1       985.490578          8617.203081        1048.316784  \n",
       "2       689.479121          9113.711978        1199.433818  \n",
       "3       881.003375          8703.096482        1041.995726  \n",
       "4      1072.597799          8872.728560        1542.266971  "
      ]
     },
     "execution_count": 12,
     "metadata": {},
     "output_type": "execute_result"
    }
   ],
   "source": [
    "def myfunction(x):\n",
    "    if x <= 325000:\n",
    "        return 0\n",
    "    elif x <= 390000:\n",
    "        return 1\n",
    "    elif x <= 455000:\n",
    "        return 2\n",
    "    elif x <= 555000:\n",
    "        return 3\n",
    "    else:\n",
    "        return 4\n",
    "\n",
    "#apply function\n",
    "df[\"resale_price\"]=df[\"resale_price\"].apply(myfunction)\n",
    "df.head()"
   ]
  },
  {
   "cell_type": "code",
   "execution_count": 13,
   "metadata": {},
   "outputs": [
    {
     "name": "stdout",
     "output_type": "stream",
     "text": [
      "502\n",
      "485\n",
      "482\n",
      "475\n",
      "477\n"
     ]
    }
   ],
   "source": [
    "print(len(df[df[\"resale_price\"]==0]))\n",
    "print(len(df[df[\"resale_price\"]==1]))\n",
    "print(len(df[df[\"resale_price\"]==2]))\n",
    "print(len(df[df[\"resale_price\"]==3]))\n",
    "print(len(df[df[\"resale_price\"]==4]))"
   ]
  },
  {
   "cell_type": "markdown",
   "metadata": {},
   "source": [
    "Model Training"
   ]
  },
  {
   "cell_type": "code",
   "execution_count": 14,
   "metadata": {},
   "outputs": [],
   "source": [
    "def decTreeScore(xValue , yValue, maxDepth = None, minSamples = 1, minSplit =2):\n",
    "    x_train, x_test, y_train, y_test = train_test_split(xValue,yValue,random_state=0)\n",
    "\n",
    "    dect = DecisionTreeClassifier(max_depth = maxDepth, min_samples_leaf = minSamples, min_samples_split = minSplit, random_state = 0)\n",
    "    dect.fit(x_train, y_train)\n",
    "    y_pred = dect.predict(x_test)\n",
    "    accuracy = accuracy_score(y_test, y_pred)\n",
    "    print(accuracy)\n",
    "    return dect"
   ]
  },
  {
   "cell_type": "code",
   "execution_count": 15,
   "metadata": {},
   "outputs": [
    {
     "name": "stdout",
     "output_type": "stream",
     "text": [
      "0.66996699669967\n",
      "training time: 0.012295722961425781 s\n"
     ]
    }
   ],
   "source": [
    "t0=time.time()\n",
    "\n",
    "x = df[[\"floor_area_sqm\",\"distanceWithMrt\",\"distanceWithRaffles\",\"distanceWithGdPri\",\"remaining_lease_months\"]]\n",
    "y = df[\"resale_price\"]\n",
    "\n",
    "decTreeScore(xValue = x, yValue = y)\n",
    "#Source(tree.export_graphviz(dec, out_file = None, class_names = ['LowRange','MidRange','HighRange'], feature_names = x_train.columns))\n",
    "\n",
    "t1 = time.time()\n",
    "t2 = t1-t0\n",
    "print (f\"training time: {t2} s\")"
   ]
  },
  {
   "cell_type": "markdown",
   "metadata": {},
   "source": [
    "# Best Combination based on Parameter Test at very bottom"
   ]
  },
  {
   "cell_type": "code",
   "execution_count": 16,
   "metadata": {},
   "outputs": [
    {
     "name": "stdout",
     "output_type": "stream",
     "text": [
      "0.66996699669967\n",
      "training time: 0.011206626892089844 s\n"
     ]
    }
   ],
   "source": [
    "t0=time.time()\n",
    "\n",
    "x = df[[\"floor_area_sqm\",\"distanceWithMrt\",\"distanceWithRaffles\",\"distanceWithGdPri\",\"remaining_lease_months\"]]\n",
    "y = df[\"resale_price\"]\n",
    "\n",
    "decTreeScore(xValue = x, yValue = y)\n",
    "#Source(tree.export_graphviz(dec, out_file = None, class_names = ['LowRange','MidRange','HighRange'], feature_names = x_train.columns))\n",
    "\n",
    "t1 = time.time()\n",
    "t2 = t1-t0\n",
    "print (f\"training time: {t2} s\")"
   ]
  },
  {
   "cell_type": "markdown",
   "metadata": {},
   "source": [
    "# Model with best accuracy"
   ]
  },
  {
   "cell_type": "code",
   "execution_count": 17,
   "metadata": {},
   "outputs": [
    {
     "name": "stdout",
     "output_type": "stream",
     "text": [
      "0.6782178217821783\n"
     ]
    }
   ],
   "source": [
    "dect = decTreeScore(xValue = x, yValue = y, maxDepth = 7, minSplit = 5, minSamples = 2)"
   ]
  },
  {
   "cell_type": "code",
   "execution_count": 28,
   "metadata": {},
   "outputs": [
    {
     "ename": "NameError",
     "evalue": "name 'x_train' is not defined",
     "output_type": "error",
     "traceback": [
      "\u001b[1;31m---------------------------------------------------------------------------\u001b[0m",
      "\u001b[1;31mNameError\u001b[0m                                 Traceback (most recent call last)",
      "\u001b[1;32m<ipython-input-28-c692139be564>\u001b[0m in \u001b[0;36m<module>\u001b[1;34m\u001b[0m\n\u001b[0;32m      3\u001b[0m \u001b[1;32mfrom\u001b[0m \u001b[0mgraphviz\u001b[0m \u001b[1;32mimport\u001b[0m \u001b[0mSource\u001b[0m\u001b[1;33m\u001b[0m\u001b[1;33m\u001b[0m\u001b[0m\n\u001b[0;32m      4\u001b[0m \u001b[1;33m\u001b[0m\u001b[0m\n\u001b[1;32m----> 5\u001b[1;33m \u001b[0mSource\u001b[0m\u001b[1;33m(\u001b[0m\u001b[0mtree\u001b[0m\u001b[1;33m.\u001b[0m\u001b[0mexport_graphviz\u001b[0m\u001b[1;33m(\u001b[0m\u001b[0mdect\u001b[0m\u001b[1;33m,\u001b[0m \u001b[0mout_file\u001b[0m\u001b[1;33m=\u001b[0m\u001b[1;32mNone\u001b[0m\u001b[1;33m,\u001b[0m \u001b[0mclass_names\u001b[0m\u001b[1;33m=\u001b[0m\u001b[1;32mTrue\u001b[0m\u001b[1;33m,\u001b[0m \u001b[0mfeature_names\u001b[0m\u001b[1;33m=\u001b[0m \u001b[0mx_train\u001b[0m\u001b[1;33m.\u001b[0m\u001b[0mcolumns\u001b[0m\u001b[1;33m)\u001b[0m\u001b[1;33m)\u001b[0m \u001b[1;31m# display the tree, with no output file\u001b[0m\u001b[1;33m\u001b[0m\u001b[1;33m\u001b[0m\u001b[0m\n\u001b[0m",
      "\u001b[1;31mNameError\u001b[0m: name 'x_train' is not defined"
     ]
    }
   ],
   "source": [
    "from sklearn import tree\n",
    "import graphviz\n",
    "from graphviz import Source\n",
    "\n",
    "Source(tree.export_graphviz(dect, out_file=None, class_names=True, feature_names= x_train.columns)) # display the tree, with no output file"
   ]
  },
  {
   "cell_type": "markdown",
   "metadata": {},
   "source": [
    "# Prediction Test"
   ]
  },
  {
   "cell_type": "code",
   "execution_count": 18,
   "metadata": {},
   "outputs": [
    {
     "name": "stdout",
     "output_type": "stream",
     "text": [
      "[0]\n",
      "training time: 0.0 s\n",
      "[3]\n"
     ]
    }
   ],
   "source": [
    "t0=time.time()\n",
    "print(dect.predict([[68,881,8703,1042,714]]))\n",
    "t1 = time.time()\n",
    "t2 = t1-t0\n",
    "print (f\"training time: {t2} s\")\n",
    "print(dect.predict([[70,689,9114,1199,1093]]))"
   ]
  },
  {
   "cell_type": "markdown",
   "metadata": {},
   "source": [
    "\n",
    "\n",
    "\n",
    "# Test Depth, Sample and Etc"
   ]
  },
  {
   "cell_type": "code",
   "execution_count": 19,
   "metadata": {},
   "outputs": [
    {
     "name": "stdout",
     "output_type": "stream",
     "text": [
      "1\n",
      "0.3696369636963696\n",
      "training time: 0.0071868896484375 s\n",
      "2\n",
      "0.4521452145214521\n",
      "training time: 0.005613088607788086 s\n",
      "3\n",
      "0.4966996699669967\n",
      "training time: 0.006662130355834961 s\n",
      "4\n",
      "0.5858085808580858\n",
      "training time: 0.007100105285644531 s\n",
      "5\n",
      "0.641914191419142\n",
      "training time: 0.006097555160522461 s\n",
      "6\n",
      "0.66996699669967\n",
      "training time: 0.0071256160736083984 s\n",
      "7\n",
      "0.6732673267326733\n",
      "training time: 0.007127046585083008 s\n",
      "8\n",
      "0.6567656765676567\n",
      "training time: 0.00868844985961914 s\n",
      "9\n",
      "0.6600660066006601\n",
      "training time: 0.008136510848999023 s\n",
      "10\n",
      "0.665016501650165\n",
      "training time: 0.00940561294555664 s\n",
      "11\n",
      "0.6633663366336634\n",
      "training time: 0.008638858795166016 s\n",
      "12\n",
      "0.66996699669967\n",
      "training time: 0.010198831558227539 s\n",
      "13\n",
      "0.6732673267326733\n",
      "training time: 0.0086517333984375 s\n",
      "14\n",
      "0.6716171617161716\n",
      "training time: 0.010161876678466797 s\n"
     ]
    }
   ],
   "source": [
    "# depth = 7 is the best\n",
    "for i in np.arange(1,15,1):\n",
    "    print(i)\n",
    "    t0=time.time()\n",
    "    decTreeScore(xValue = x, yValue = y, maxDepth = i)\n",
    "    t1 = time.time()\n",
    "    t2 = t1-t0\n",
    "    print (f\"training time: {t2} s\")"
   ]
  },
  {
   "cell_type": "code",
   "execution_count": 20,
   "metadata": {},
   "outputs": [
    {
     "name": "stdout",
     "output_type": "stream",
     "text": [
      "1\n",
      "0.6732673267326733\n",
      "training time: 0.009177923202514648 s\n",
      "2\n",
      "0.6782178217821783\n",
      "training time: 0.008189201354980469 s\n",
      "3\n",
      "0.6732673267326733\n",
      "training time: 0.00763702392578125 s\n",
      "4\n",
      "0.66996699669967\n",
      "training time: 0.0076372623443603516 s\n",
      "5\n",
      "0.6633663366336634\n",
      "training time: 0.006613731384277344 s\n",
      "6\n",
      "0.6666666666666666\n",
      "training time: 0.008795499801635742 s\n",
      "7\n",
      "0.6617161716171617\n",
      "training time: 0.007628917694091797 s\n",
      "8\n",
      "0.6633663366336634\n",
      "training time: 0.007125377655029297 s\n",
      "9\n",
      "0.6600660066006601\n",
      "training time: 0.0071222782135009766 s\n",
      "10\n",
      "0.6435643564356436\n",
      "training time: 0.0071256160736083984 s\n",
      "11\n",
      "0.641914191419142\n",
      "training time: 0.0071163177490234375 s\n",
      "12\n",
      "0.641914191419142\n",
      "training time: 0.007657051086425781 s\n",
      "13\n",
      "0.6485148514851485\n",
      "training time: 0.007616519927978516 s\n",
      "14\n",
      "0.6468646864686468\n",
      "training time: 0.0071146488189697266 s\n"
     ]
    }
   ],
   "source": [
    "#minSamples 2 is the best\n",
    "for i in np.arange(1,15,1):\n",
    "    print(i)\n",
    "    t0=time.time()\n",
    "    decTreeScore(xValue = x, yValue = y, maxDepth = 7, minSamples = i)\n",
    "    t1 = time.time()\n",
    "    t2 = t1-t0\n",
    "    print (f\"training time: {t2} s\")"
   ]
  },
  {
   "cell_type": "code",
   "execution_count": 21,
   "metadata": {},
   "outputs": [
    {
     "name": "stdout",
     "output_type": "stream",
     "text": [
      "2\n",
      "0.6782178217821783\n",
      "training time: 0.009679794311523438 s\n",
      "3\n",
      "0.6782178217821783\n",
      "training time: 0.009727954864501953 s\n",
      "4\n",
      "0.6782178217821783\n",
      "training time: 0.007124185562133789 s\n",
      "5\n",
      "0.6782178217821783\n",
      "training time: 0.008153915405273438 s\n",
      "6\n",
      "0.6749174917491749\n",
      "training time: 0.00712132453918457 s\n",
      "7\n",
      "0.6749174917491749\n",
      "training time: 0.00712275505065918 s\n",
      "8\n",
      "0.6732673267326733\n",
      "training time: 0.007910490036010742 s\n",
      "9\n",
      "0.6732673267326733\n",
      "training time: 0.008116722106933594 s\n",
      "10\n",
      "0.66996699669967\n",
      "training time: 0.0071375370025634766 s\n",
      "11\n",
      "0.6732673267326733\n",
      "training time: 0.0076367855072021484 s\n",
      "12\n",
      "0.66996699669967\n",
      "training time: 0.0076520442962646484 s\n",
      "13\n",
      "0.66996699669967\n",
      "training time: 0.008644819259643555 s\n",
      "14\n",
      "0.66996699669967\n",
      "training time: 0.009625911712646484 s\n"
     ]
    }
   ],
   "source": [
    "#minSplit = 5 is the best based on the prediction time\n",
    "for i in np.arange(2,15,1):\n",
    "    print(i)\n",
    "    t0=time.time()\n",
    "    decTreeScore(xValue = x, yValue = y, maxDepth = 7, minSplit = i, minSamples = 2)\n",
    "    t1 = time.time()\n",
    "    t2 = t1-t0\n",
    "    print (f\"training time: {t2} s\")"
   ]
  },
  {
   "cell_type": "markdown",
   "metadata": {},
   "source": [
    "# Test different parameters"
   ]
  },
  {
   "cell_type": "markdown",
   "metadata": {},
   "source": [
    "# Reduce 1 parameter"
   ]
  },
  {
   "cell_type": "code",
   "execution_count": 22,
   "metadata": {},
   "outputs": [
    {
     "name": "stdout",
     "output_type": "stream",
     "text": [
      "0.6072607260726073\n",
      "training time: 0.010700702667236328 s\n"
     ]
    }
   ],
   "source": [
    "t0=time.time()\n",
    "\n",
    "x = df[[\"floor_area_sqm\",\"distanceWithMrt\",\"distanceWithRaffles\",\"distanceWithGdPri\"]]\n",
    "y = df[\"resale_price\"]\n",
    "\n",
    "decTreeScore(xValue = x, yValue = y)\n",
    "\n",
    "t1 = time.time()\n",
    "t2 = t1-t0\n",
    "print (f\"training time: {t2} s\")"
   ]
  },
  {
   "cell_type": "code",
   "execution_count": 23,
   "metadata": {},
   "outputs": [
    {
     "name": "stdout",
     "output_type": "stream",
     "text": [
      "0.6584158415841584\n",
      "training time: 0.012379646301269531 s\n"
     ]
    }
   ],
   "source": [
    "t0=time.time()\n",
    "\n",
    "x = df[[\"floor_area_sqm\",\"distanceWithMrt\",\"distanceWithRaffles\",\"remaining_lease_months\"]]\n",
    "y = df[\"resale_price\"]\n",
    "\n",
    "decTreeScore(xValue = x, yValue = y)\n",
    "\n",
    "t1 = time.time()\n",
    "t2 = t1-t0\n",
    "print (f\"training time: {t2} s\")"
   ]
  },
  {
   "cell_type": "code",
   "execution_count": 24,
   "metadata": {},
   "outputs": [
    {
     "name": "stdout",
     "output_type": "stream",
     "text": [
      "0.5808580858085809\n",
      "training time: 0.011206626892089844 s\n"
     ]
    }
   ],
   "source": [
    "t0=time.time()\n",
    "\n",
    "x = df[[\"floor_area_sqm\",\"distanceWithMrt\",\"distanceWithGdPri\",\"remaining_lease_months\"]]\n",
    "y = df[\"resale_price\"]\n",
    "\n",
    "decTreeScore(xValue = x, yValue = y)\n",
    "\n",
    "t1 = time.time()\n",
    "t2 = t1-t0\n",
    "print (f\"training time: {t2} s\")"
   ]
  },
  {
   "cell_type": "code",
   "execution_count": 25,
   "metadata": {},
   "outputs": [
    {
     "name": "stdout",
     "output_type": "stream",
     "text": [
      "0.6518151815181518\n",
      "training time: 0.01172947883605957 s\n"
     ]
    }
   ],
   "source": [
    "t0=time.time()\n",
    "\n",
    "x = df[[\"floor_area_sqm\",\"distanceWithRaffles\",\"distanceWithGdPri\",\"remaining_lease_months\"]]\n",
    "y = df[\"resale_price\"]\n",
    "\n",
    "decTreeScore(xValue = x, yValue = y)\n",
    "\n",
    "t1 = time.time()\n",
    "t2 = t1-t0\n",
    "print (f\"training time: {t2} s\")"
   ]
  },
  {
   "cell_type": "code",
   "execution_count": 26,
   "metadata": {},
   "outputs": [
    {
     "name": "stdout",
     "output_type": "stream",
     "text": [
      "0.41914191419141916\n",
      "training time: 0.010218143463134766 s\n"
     ]
    }
   ],
   "source": [
    "t0=time.time()\n",
    "\n",
    "x = df[[\"distanceWithMrt\",\"distanceWithRaffles\",\"distanceWithGdPri\",\"remaining_lease_months\"]]\n",
    "y = df[\"resale_price\"]\n",
    "\n",
    "decTreeScore(xValue = x, yValue = y)\n",
    "\n",
    "t1 = time.time()\n",
    "t2 = t1-t0\n",
    "print (f\"training time: {t2} s\")"
   ]
  }
 ],
 "metadata": {
  "kernelspec": {
   "display_name": "Python 3",
   "language": "python",
   "name": "python3"
  },
  "language_info": {
   "codemirror_mode": {
    "name": "ipython",
    "version": 3
   },
   "file_extension": ".py",
   "mimetype": "text/x-python",
   "name": "python",
   "nbconvert_exporter": "python",
   "pygments_lexer": "ipython3",
   "version": "3.8.5"
  }
 },
 "nbformat": 4,
 "nbformat_minor": 4
}
